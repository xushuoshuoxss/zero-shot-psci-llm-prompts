{
 "cells": [
  {
   "cell_type": "code",
   "execution_count": 1,
   "id": "f45f2813",
   "metadata": {},
   "outputs": [],
   "source": [
    "import os\n",
    "from openai import OpenAI\n",
    "from langchain_openai import ChatOpenAI\n",
    "import sys\n",
    "import utils\n",
    "import base64\n",
    "import pandas as pd"
   ]
  },
  {
   "cell_type": "code",
   "execution_count": 2,
   "id": "6557bb5e",
   "metadata": {},
   "outputs": [],
   "source": [
    "client = OpenAI()"
   ]
  },
  {
   "cell_type": "code",
   "execution_count": 3,
   "id": "1d3e552f",
   "metadata": {},
   "outputs": [],
   "source": [
    "# Function to encode the image\n",
    "def encode_image(image_path):\n",
    "    with open(image_path, \"rb\") as image_file:\n",
    "        return base64.b64encode(image_file.read()).decode('utf-8')"
   ]
  },
  {
   "cell_type": "code",
   "execution_count": 8,
   "id": "4d10c518",
   "metadata": {},
   "outputs": [],
   "source": [
    "road_grading_standards = \"\"\"Road Condition Rating System (Pavement Surface Condition Index - PSCI):\n",
    "    Rating 10 (Excellent Road Condition - Routine Maintenance): Newly constructed or recently overlaid roads with no visible defects.\n",
    "    Rating 9 (Very Good Road Condition - Routine Maintenance): Very few visible defects; less than 10% surface defects (ravelling and bleeding).\n",
    "    Rating 8 (Good Road Condition - Restoration of Skid Resistance): 10% to 30% surface with surface defects; no structural distresses present.\n",
    "    Rating 7 (Good Road Condition - Restoration of Skid Resistance): More than 30% of surface with surface defects (ravelling or bleeding); no structural distresses.\n",
    "    Rating 6 (Fair Road Condition - Surface Restoration): Less than 20% other cracking, patching in good condition, some surface distortion present.\n",
    "    Rating 5 (Fair Road Condition - Surface Restoration): More than 20% surface with other cracking, patching in fair condition, significant surface distortions.\n",
    "    Rating 4 (Poor Road Condition - Structural Overlay): 5% to 25% of surface with structural distresses (rutting, alligator cracking, poor patching), frequent potholes.\n",
    "    Rating 3 (Poor Road Condition - Structural Overlay): 25% to 50% of surface with significant structural distresses, more frequent potholes.\n",
    "    Rating 2 (Very Poor  Road Condition - Road Reconstruction): More than 50% of surface with severe structural distresses, severe rutting, many potholes.\n",
    "    Rating 1 (Failed Poor  Road Condition - Road Reconstruction): Complete road failure, many large and deep potholes, extensive loss of pavement surface.\n",
    "    \n",
    "    Defect Categories and Indicators:\n",
    "    Surface Defects: Include ravelling (loss of binder and aggregate from the surface) and bleeding (excess bituminous material on the surface).\n",
    "    Pavement Deformation: Encompasses rutting (permanent deformation in wheel paths) and surface distortion (depressions, bumps).\n",
    "    Cracks: Categorized into alligator cracking (series of interconnected cracks), edge breakup/cracking, and other cracking (longitudinal, transverse, reflection, slippage).\n",
    "    Surface Openings: Include patching (repaired areas indicating previous pavement defects) and potholes (bowl-shaped depressions exposing underlying layers).\n",
    "\"\"\""
   ]
  },
  {
   "cell_type": "code",
   "execution_count": 9,
   "id": "d80c40ef",
   "metadata": {},
   "outputs": [],
   "source": [
    "def get_road_condition_grade1(folder_path, model):\n",
    "    # Iterate through each image in the folder\n",
    "    grade = []\n",
    "    img_names = []\n",
    "    for image_name in os.listdir(folder_path):\n",
    "        image_path = os.path.join(folder_path, image_name)\n",
    "\n",
    "        if os.path.isfile(image_path) and image_path.lower().endswith(('.png', '.jpg', '.jpeg')):\n",
    "            base64_image = encode_image(image_path)\n",
    "            # Construct the message with the specified instructions\n",
    "            messages=[\n",
    "                    {\n",
    "                        \"role\": \"system\",\n",
    "                        \"content\":\"You are a pavement engineer tasked with evaluating road conditions from images.\\\n",
    "                        You will also be provided with road condition grading criteria (road_grading_standards) and image.\\\n",
    "                        Use the following step-by-step instructions to evaluate the road grade.\\\n",
    "                        Step 1 – The user will provide you with road condition grading criteria.\\\n",
    "                        Step 2 - The user will provide you with an image in base64 format, focus solely on the asphalt pavement.\\\n",
    "                        Step 3 - Please pay attention to any anomalies on the asphalt pavement, such as cracks, alligator\\\n",
    "                        cracks, potholes, raveling, bleeding, rutting, surface distortion, edge breakup, patching, etc. \\\n",
    "                        When identifying road anomalies, exclude the effects of shadows and water stains caused by lighting\\\n",
    "                        conditions.\\\n",
    "                        Step 4 - Using the provided road condition grading criteria determine the grade of the road surface in the image.\\\n",
    "                        Step 5 - Respond with a single grade number based on the provided standards. \\\n",
    "                        Respond with only one number.\"},\n",
    "                    {\n",
    "                        \"role\": \"user\",\n",
    "                        \"content\": [\n",
    "                            {\"type\": \"text\", \"text\": \"I will provide you with road condition grading criteria.\"},\n",
    "                            {\"type\": \"text\", \"text\": road_grading_standards},\n",
    "                            {\"type\": \"text\", \"text\": \"I will provide you with an image in base64 format, please focus solely on the asphalt pavement\"},\n",
    "                            {\n",
    "                                \"type\": \"image_url\",\n",
    "                                \"image_url\": {\n",
    "                                    \"url\": f\"data:image/jpeg;base64,{base64_image}\"\n",
    "                                }\n",
    "                            },\n",
    "                            {\"type\": \"text\", \"text\": \"Please pay attention to any anomalies on the asphalt pavement, such as cracks, alligator\\\n",
    "                            cracks, potholes, raveling, bleeding, rutting, surface distortion, edge breakup, patching, etc.\\\n",
    "                            When identifying road anomalies, exclude the effects of shadows and water stains caused by lighting\\\n",
    "                            conditions.\"},\n",
    "                            {\"type\": \"text\", \"text\": \"Using the provided road condition grading criteria determine the \\\n",
    "                            grade of the road surface in the image\"},\n",
    "                            {\"type\": \"text\", \"text\": \"Respond with a single grade number based on the provided standards.\\\n",
    "                            Respond with only one number.\"},\n",
    "                        ]\n",
    "                    },\n",
    "                ]\n",
    "            \n",
    "            response = client.chat.completions.create(\n",
    "                model= model,  # Note: This is a conceptual model name\n",
    "                messages=messages,\n",
    "                max_tokens=300,\n",
    "                temperature=0\n",
    "            )\n",
    "            \n",
    "            try:\n",
    "                grade_value = int(response.choices[0].message.content)\n",
    "                grade.append(grade_value)\n",
    "                img_names.append(image_name)\n",
    "            except ValueError:\n",
    "                grade_value = 11\n",
    "                grade.append(grade_value)\n",
    "                img_names.append(image_name)\n",
    "                print(f\"Invalid response for {image_name}: {response.choices[0].message.content}\")\n",
    "    return (img_names, grade)"
   ]
  },
  {
   "cell_type": "code",
   "execution_count": 10,
   "id": "c4f1b021",
   "metadata": {},
   "outputs": [
    {
     "name": "stdout",
     "output_type": "stream",
     "text": [
      "Invalid response for 106.png: I can't evaluate the road condition from the image provided. Please provide the image in base64 format.\n",
      "Invalid response for 56.png: I can't evaluate the road condition from the image provided. Please provide the image in base64 format.\n"
     ]
    }
   ],
   "source": [
    "folder_path = r\"C:\\Desktop\\P-Roadphone\\Paper_LLM\\FINAL\\imgs_all\"\n",
    "output = get_road_condition_grade1(folder_path,\"gpt-4o\")\n",
    "\n",
    "df = pd.DataFrame({'Name': output[0], 'Model': output[1]})\n",
    "df['Name'] = df['Name'].str.extract('(\\d+)')\n",
    "csv_path = r\"C:\\Desktop\\P-Roadphone\\Paper_LLM\\FINAL\\RC_Model4_o_10131120.csv\"#RC_Model2_o6_08252333.csv\n",
    "df.to_csv(csv_path, index=False)"
   ]
  },
  {
   "cell_type": "code",
   "execution_count": null,
   "id": "0d863892",
   "metadata": {},
   "outputs": [],
   "source": []
  }
 ],
 "metadata": {
  "kernelspec": {
   "display_name": "Python 3 (ipykernel)",
   "language": "python",
   "name": "python3"
  },
  "language_info": {
   "codemirror_mode": {
    "name": "ipython",
    "version": 3
   },
   "file_extension": ".py",
   "mimetype": "text/x-python",
   "name": "python",
   "nbconvert_exporter": "python",
   "pygments_lexer": "ipython3",
   "version": "3.12.7"
  }
 },
 "nbformat": 4,
 "nbformat_minor": 5
}
