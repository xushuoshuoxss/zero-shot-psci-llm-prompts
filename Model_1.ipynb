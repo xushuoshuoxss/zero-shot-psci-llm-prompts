{
 "cells": [
  {
   "cell_type": "code",
   "execution_count": 1,
   "id": "f45f2813",
   "metadata": {},
   "outputs": [],
   "source": [
    "import os\n",
    "from openai import OpenAI\n",
    "from langchain_openai import ChatOpenAI\n",
    "import sys\n",
    "import utils\n",
    "import base64\n",
    "import pandas as pd"
   ]
  },
  {
   "cell_type": "code",
   "execution_count": 2,
   "id": "6557bb5e",
   "metadata": {},
   "outputs": [],
   "source": [
    "client = OpenAI()"
   ]
  },
  {
   "cell_type": "code",
   "execution_count": 3,
   "id": "1d3e552f",
   "metadata": {},
   "outputs": [],
   "source": [
    "# Function to encode the image\n",
    "def encode_image(image_path):\n",
    "    with open(image_path, \"rb\") as image_file:\n",
    "        return base64.b64encode(image_file.read()).decode('utf-8')"
   ]
  },
  {
   "cell_type": "code",
   "execution_count": 35,
   "id": "e9a8645d",
   "metadata": {},
   "outputs": [],
   "source": [
    "road_grading_standards = \"\"\"Road Condition Rating System (Pavement Surface Condition Index - PSCI):\n",
    "        10: New roads, no defects.\n",
    "        9: Very few defects (<10% surface issues).\n",
    "        8: Minor defects (10-30% surface issues), no structural problems.\n",
    "        7: Noticeable surface defects (>30%), no structural problems.\n",
    "        6: Some cracking (<20%), good patching, minor distortions.\n",
    "        5: Significant cracking (>20%), fair patching, notable distortions.\n",
    "        4: Moderate structural issues (5-25%), frequent potholes.\n",
    "        3: Major structural issues (25-50%), frequent potholes.\n",
    "        2: Severe structural issues (>50%), many potholes.\n",
    "        1: Complete road failure, extensive damage.\n",
    "        \"\"\""
   ]
  },
  {
   "cell_type": "code",
   "execution_count": 36,
   "id": "5ee8b803",
   "metadata": {},
   "outputs": [],
   "source": [
    "def get_road_condition_grade1(folder_path, model):\n",
    "    # Iterate through each image in the folder\n",
    "    grade = []\n",
    "    img_names = []\n",
    "    for image_name in os.listdir(folder_path):\n",
    "        image_path = os.path.join(folder_path, image_name)\n",
    "\n",
    "        if os.path.isfile(image_path) and image_path.lower().endswith(('.png', '.jpg', '.jpeg')):\n",
    "            base64_image = encode_image(image_path)\n",
    "            # Construct the message with the specified instructions\n",
    "            messages=[\n",
    "                    {\n",
    "                        \"role\": \"user\",\n",
    "                        \"content\": [\n",
    "                            {\n",
    "                                \"type\": \"image_url\",\n",
    "                                \"image_url\": {\n",
    "                                    \"url\": f\"data:image/jpeg;base64,{base64_image}\"\n",
    "                                }\n",
    "                            },\n",
    "                            {\"type\": \"text\", \"text\": \"Focusing on the asphalt road, do you see any cracks, alligator cracking, potholes, ravelling, bleeding, rutting, surface distortion, edge breakup, patching, etc?\"},\n",
    "                            {\"type\": \"text\", \"text\":  road_grading_standards},\n",
    "                            {\"type\": \"text\", \"text\": \"Please provide a grade for the road condition based on the provided standards, only a single grade number. Please note that when identifying road anomalies, exclude the effects of shadows and water stains caused by light.Response me with only one word\"},\n",
    "                        ]\n",
    "                    },\n",
    "                ]\n",
    "            \n",
    "            response = client.chat.completions.create(\n",
    "                model= model,  # Note: This is a conceptual model name\n",
    "                messages=messages,\n",
    "                max_tokens=300,\n",
    "                temperature=0\n",
    "            )\n",
    "            \n",
    "            try:\n",
    "                grade_value = int(response.choices[0].message.content)\n",
    "                grade.append(grade_value)\n",
    "                img_names.append(image_name)\n",
    "            except ValueError:\n",
    "                grade_value = 11\n",
    "                grade.append(grade_value)\n",
    "                img_names.append(image_name)\n",
    "                print(f\"Invalid response for {image_name}: {response.choices[0].message.content}\")\n",
    "    return (img_names, grade)"
   ]
  },
  {
   "cell_type": "code",
   "execution_count": 37,
   "id": "ed3a117a",
   "metadata": {},
   "outputs": [],
   "source": [
    "folder_path = r\"C:\\Desktop\\P-Roadphone\\Paper_LLM\\FINAL\\imgs_all\"\n",
    "output = get_road_condition_grade1(folder_path,\"gpt-4o\")\n",
    "\n",
    "df = pd.DataFrame({'Name': output[0], 'Model': output[1]})\n",
    "df['Name'] = df['Name'].str.extract('(\\d+)')\n",
    "csv_path = r\"C:\\Desktop\\P-Roadphone\\Paper_LLM\\FINAL\\RC_Model1_o_09211606.csv\"#RC_Model2_o6_08252333.csv\n",
    "df.to_csv(csv_path, index=False)"
   ]
  }
 ],
 "metadata": {
  "kernelspec": {
   "display_name": "Python 3 (ipykernel)",
   "language": "python",
   "name": "python3"
  },
  "language_info": {
   "codemirror_mode": {
    "name": "ipython",
    "version": 3
   },
   "file_extension": ".py",
   "mimetype": "text/x-python",
   "name": "python",
   "nbconvert_exporter": "python",
   "pygments_lexer": "ipython3",
   "version": "3.12.7"
  }
 },
 "nbformat": 4,
 "nbformat_minor": 5
}
